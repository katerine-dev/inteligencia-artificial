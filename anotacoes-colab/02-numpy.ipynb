{
  "nbformat": 4,
  "nbformat_minor": 0,
  "metadata": {
    "colab": {
      "provenance": []
    },
    "kernelspec": {
      "name": "python3",
      "display_name": "Python 3"
    },
    "language_info": {
      "name": "python"
    }
  },
  "cells": [
    {
      "cell_type": "markdown",
      "source": [
        "O Numpy é uma biblioteca de algebra Linear em Python. A razão de sua importancia vem do fato de que praticamente todas as bibliotecas de ecossistemas PyData dependem do NumPy. Além disso, ele é incrivelmente rapido, pois tem conexões com bibliotecas em C."
      ],
      "metadata": {
        "id": "uYWRQ-2UvmYi"
      }
    },
    {
      "cell_type": "markdown",
      "source": [
        "## NumPy Arrays"
      ],
      "metadata": {
        "id": "VOxZqNCBwfVM"
      }
    },
    {
      "cell_type": "markdown",
      "source": [
        "Numpy arrays aparecem em duas formas: vetores ematrizes. Vetores são estranhamente arrays 1-D e matrizes são 2-D  (porem, uma matriz pode, eventulment, conter apenas uma coluna ou uma linha)"
      ],
      "metadata": {
        "id": "Cdk_1SmvwnFE"
      }
    },
    {
      "cell_type": "markdown",
      "source": [
        "#### Utilizando o NumPy"
      ],
      "metadata": {
        "id": "HX1wxgTOx5k_"
      }
    },
    {
      "cell_type": "code",
      "source": [
        "import numpy as np\n"
      ],
      "metadata": {
        "id": "sTzZyRhcx968"
      },
      "execution_count": null,
      "outputs": []
    },
    {
      "cell_type": "markdown",
      "source": [
        "### De uma lista"
      ],
      "metadata": {
        "id": "dcXVQImhxK4I"
      }
    },
    {
      "cell_type": "markdown",
      "source": [
        "Pode-se criar uma array convertendo diretamente uma lista ou listas de listas"
      ],
      "metadata": {
        "id": "kgtx4rfTxPON"
      }
    },
    {
      "cell_type": "code",
      "source": [
        "my_list = [1, 2, 3]\n",
        "print(my_list)"
      ],
      "metadata": {
        "colab": {
          "base_uri": "https://localhost:8080/"
        },
        "id": "7XVsjnALxX9X",
        "outputId": "9915ff8c-7d56-4f16-a2f1-b5b1f51b6871"
      },
      "execution_count": null,
      "outputs": [
        {
          "output_type": "stream",
          "name": "stdout",
          "text": [
            "[2, 3]\n"
          ]
        }
      ]
    },
    {
      "cell_type": "code",
      "source": [
        "np.array(my_list)"
      ],
      "metadata": {
        "colab": {
          "base_uri": "https://localhost:8080/"
        },
        "id": "o-YsyKcixpO9",
        "outputId": "2627e920-8608-4610-fa5d-80a1daa1042a"
      },
      "execution_count": null,
      "outputs": [
        {
          "output_type": "execute_result",
          "data": {
            "text/plain": [
              "array([2, 3])"
            ]
          },
          "metadata": {},
          "execution_count": 4
        }
      ]
    },
    {
      "cell_type": "code",
      "source": [
        "my_matrix = [[1, 2, 3], [4, 5, 6,], [7, 8, 9]]"
      ],
      "metadata": {
        "id": "Nu-b-816yDSa"
      },
      "execution_count": null,
      "outputs": []
    },
    {
      "cell_type": "code",
      "source": [
        "np.array(my_matrix)"
      ],
      "metadata": {
        "colab": {
          "base_uri": "https://localhost:8080/"
        },
        "id": "TeeuGJHAyktq",
        "outputId": "174a723c-e45b-41e9-c4a0-c612720eb5e3"
      },
      "execution_count": null,
      "outputs": [
        {
          "output_type": "execute_result",
          "data": {
            "text/plain": [
              "array([[1, 2, 3],\n",
              "       [4, 5, 6],\n",
              "       [7, 8, 9]])"
            ]
          },
          "metadata": {},
          "execution_count": 6
        }
      ]
    },
    {
      "cell_type": "markdown",
      "source": [
        "#### Métodos de construção interna"
      ],
      "metadata": {
        "id": "q3gAzNOJyqmL"
      }
    },
    {
      "cell_type": "markdown",
      "source": [
        "Existem varios métodos de iternos para gerar arrays"
      ],
      "metadata": {
        "id": "SDNo2_AVy8En"
      }
    },
    {
      "cell_type": "markdown",
      "source": [
        "#### Arrange\n"
      ],
      "metadata": {
        "id": "D_x9Jm0_zHuO"
      }
    },
    {
      "cell_type": "markdown",
      "source": [
        "Retorna valores separados igualmente em um dado intervalo"
      ],
      "metadata": {
        "id": "MRBx49y8zKdv"
      }
    },
    {
      "cell_type": "code",
      "source": [
        "np.arange(0,10)"
      ],
      "metadata": {
        "colab": {
          "base_uri": "https://localhost:8080/"
        },
        "id": "Xh5mNMMKzpra",
        "outputId": "830c0045-fae9-4e86-b55d-6c909ff4b196"
      },
      "execution_count": null,
      "outputs": [
        {
          "output_type": "execute_result",
          "data": {
            "text/plain": [
              "array([0, 1, 2, 3, 4, 5, 6, 7, 8, 9])"
            ]
          },
          "metadata": {},
          "execution_count": 8
        }
      ]
    },
    {
      "cell_type": "code",
      "source": [
        "np.arange(0,11,2)"
      ],
      "metadata": {
        "colab": {
          "base_uri": "https://localhost:8080/"
        },
        "id": "0AHcKRm80Fh3",
        "outputId": "724f4e4c-9774-4001-925a-1a3a3feb4ed4"
      },
      "execution_count": null,
      "outputs": [
        {
          "output_type": "execute_result",
          "data": {
            "text/plain": [
              "array([ 0,  2,  4,  6,  8, 10])"
            ]
          },
          "metadata": {},
          "execution_count": 9
        }
      ]
    },
    {
      "cell_type": "markdown",
      "source": [
        "#### Zeros e ones"
      ],
      "metadata": {
        "id": "3ovDYQHk0O0n"
      }
    },
    {
      "cell_type": "markdown",
      "source": [
        "Gera arrays de zeros e uns"
      ],
      "metadata": {
        "id": "1oT2eLNx0SeH"
      }
    },
    {
      "cell_type": "code",
      "source": [
        "np.zeros(3)"
      ],
      "metadata": {
        "colab": {
          "base_uri": "https://localhost:8080/"
        },
        "id": "h0KxfuEE0XDI",
        "outputId": "fd072df3-da84-41e9-8691-0492086351e6"
      },
      "execution_count": null,
      "outputs": [
        {
          "output_type": "execute_result",
          "data": {
            "text/plain": [
              "array([0., 0., 0.])"
            ]
          },
          "metadata": {},
          "execution_count": 10
        }
      ]
    },
    {
      "cell_type": "code",
      "source": [
        "np.zeros((3,3))"
      ],
      "metadata": {
        "colab": {
          "base_uri": "https://localhost:8080/"
        },
        "id": "WvECX3ZQ0Z8v",
        "outputId": "029dcc3f-4713-45e6-824b-e74a6330f3b6"
      },
      "execution_count": null,
      "outputs": [
        {
          "output_type": "execute_result",
          "data": {
            "text/plain": [
              "array([[0., 0., 0.],\n",
              "       [0., 0., 0.],\n",
              "       [0., 0., 0.]])"
            ]
          },
          "metadata": {},
          "execution_count": 11
        }
      ]
    },
    {
      "cell_type": "code",
      "source": [
        "np.ones(3)"
      ],
      "metadata": {
        "colab": {
          "base_uri": "https://localhost:8080/"
        },
        "id": "yB9SOb8b0kEn",
        "outputId": "0fd3a4b8-369f-465e-8650-0df68a77bc4f"
      },
      "execution_count": null,
      "outputs": [
        {
          "output_type": "execute_result",
          "data": {
            "text/plain": [
              "array([1., 1., 1.])"
            ]
          },
          "metadata": {},
          "execution_count": 12
        }
      ]
    },
    {
      "cell_type": "code",
      "source": [
        "np.ones((3,3))"
      ],
      "metadata": {
        "colab": {
          "base_uri": "https://localhost:8080/"
        },
        "id": "4HH5qbtc0oDH",
        "outputId": "862099d4-ba19-475d-9885-fa5fbdd85d16"
      },
      "execution_count": null,
      "outputs": [
        {
          "output_type": "execute_result",
          "data": {
            "text/plain": [
              "array([[1., 1., 1.],\n",
              "       [1., 1., 1.],\n",
              "       [1., 1., 1.]])"
            ]
          },
          "metadata": {},
          "execution_count": 13
        }
      ]
    },
    {
      "cell_type": "markdown",
      "source": [
        "#### Linspace"
      ],
      "metadata": {
        "id": "cKwUhePk03TP"
      }
    },
    {
      "cell_type": "markdown",
      "source": [
        "Retorna números igualmente espaçados em um intervalo específico"
      ],
      "metadata": {
        "id": "6H8QtSiC08M4"
      }
    },
    {
      "cell_type": "code",
      "source": [
        "np.linspace(0,10,3)"
      ],
      "metadata": {
        "colab": {
          "base_uri": "https://localhost:8080/"
        },
        "id": "9Uz2L86c1Lao",
        "outputId": "8e705aa2-e7f5-4dbd-8f13-c3080999cdbd"
      },
      "execution_count": null,
      "outputs": [
        {
          "output_type": "execute_result",
          "data": {
            "text/plain": [
              "array([ 0.,  5., 10.])"
            ]
          },
          "metadata": {},
          "execution_count": 14
        }
      ]
    },
    {
      "cell_type": "code",
      "source": [
        "np.linspace(0,10,50)"
      ],
      "metadata": {
        "colab": {
          "base_uri": "https://localhost:8080/"
        },
        "id": "iEiOj_yN1Qao",
        "outputId": "cad86d96-038e-4e06-cc8f-61d87f29d22c"
      },
      "execution_count": null,
      "outputs": [
        {
          "output_type": "execute_result",
          "data": {
            "text/plain": [
              "array([ 0.        ,  0.20408163,  0.40816327,  0.6122449 ,  0.81632653,\n",
              "        1.02040816,  1.2244898 ,  1.42857143,  1.63265306,  1.83673469,\n",
              "        2.04081633,  2.24489796,  2.44897959,  2.65306122,  2.85714286,\n",
              "        3.06122449,  3.26530612,  3.46938776,  3.67346939,  3.87755102,\n",
              "        4.08163265,  4.28571429,  4.48979592,  4.69387755,  4.89795918,\n",
              "        5.10204082,  5.30612245,  5.51020408,  5.71428571,  5.91836735,\n",
              "        6.12244898,  6.32653061,  6.53061224,  6.73469388,  6.93877551,\n",
              "        7.14285714,  7.34693878,  7.55102041,  7.75510204,  7.95918367,\n",
              "        8.16326531,  8.36734694,  8.57142857,  8.7755102 ,  8.97959184,\n",
              "        9.18367347,  9.3877551 ,  9.59183673,  9.79591837, 10.        ])"
            ]
          },
          "metadata": {},
          "execution_count": 16
        }
      ]
    },
    {
      "cell_type": "markdown",
      "source": [
        "#### eye"
      ],
      "metadata": {
        "id": "gugxA01B1b9o"
      }
    },
    {
      "cell_type": "markdown",
      "source": [
        "Cria uma matrix identidade"
      ],
      "metadata": {
        "id": "h-MlPkoA1dqJ"
      }
    },
    {
      "cell_type": "code",
      "source": [
        "np.eye(4)"
      ],
      "metadata": {
        "colab": {
          "base_uri": "https://localhost:8080/"
        },
        "id": "-UW0OAoD1g36",
        "outputId": "171cdfe7-fab9-4e23-a4a4-277516ff68cf"
      },
      "execution_count": null,
      "outputs": [
        {
          "output_type": "execute_result",
          "data": {
            "text/plain": [
              "array([[1., 0., 0., 0.],\n",
              "       [0., 1., 0., 0.],\n",
              "       [0., 0., 1., 0.],\n",
              "       [0., 0., 0., 1.]])"
            ]
          },
          "metadata": {},
          "execution_count": 17
        }
      ]
    },
    {
      "cell_type": "markdown",
      "source": [
        "#### Ramdom\n",
        "O numpy possui várias formas de criar arrays de números aleatórios"
      ],
      "metadata": {
        "id": "ieK3RyP811Fq"
      }
    },
    {
      "cell_type": "markdown",
      "source": [
        "#### rad\n",
        "Cria uma array na forma dada e popula ela com amostras aleaórias de uma distribuição uniforme entre [0,1)\n",
        "\n",
        "o [ significa que o número pertence ao grupo\n",
        "e o ) número não pode acontecer"
      ],
      "metadata": {
        "id": "eUmitc0519Gm"
      }
    },
    {
      "cell_type": "code",
      "source": [
        "np.random.rand(2)"
      ],
      "metadata": {
        "colab": {
          "base_uri": "https://localhost:8080/"
        },
        "id": "rj-n1n2W2Ne6",
        "outputId": "067aae72-448b-4831-fe04-1002398d0190"
      },
      "execution_count": null,
      "outputs": [
        {
          "output_type": "execute_result",
          "data": {
            "text/plain": [
              "array([0.60679188, 0.39479796])"
            ]
          },
          "metadata": {},
          "execution_count": 19
        }
      ]
    },
    {
      "cell_type": "code",
      "source": [
        "np.random.rand(5,5)"
      ],
      "metadata": {
        "colab": {
          "base_uri": "https://localhost:8080/"
        },
        "id": "O6jI1fUk2Tg6",
        "outputId": "e66d5f55-769c-4461-9a0f-f60e66ec9a8f"
      },
      "execution_count": null,
      "outputs": [
        {
          "output_type": "execute_result",
          "data": {
            "text/plain": [
              "array([[0.91460949, 0.84723557, 0.97326436, 0.96646548, 0.47471469],\n",
              "       [0.38656922, 0.88556972, 0.40773262, 0.15449817, 0.09731872],\n",
              "       [0.39200418, 0.02848331, 0.23314519, 0.77399361, 0.37764997],\n",
              "       [0.57983628, 0.27098626, 0.86078327, 0.74141236, 0.93672364],\n",
              "       [0.62354794, 0.99740569, 0.61288439, 0.22869363, 0.10215676]])"
            ]
          },
          "metadata": {},
          "execution_count": 20
        }
      ]
    },
    {
      "cell_type": "markdown",
      "source": [
        "#### randn\n",
        "Retorna uma amostra (ou amostras) de uma \"distribuição normal padrão\". Diferente do rand, que é uniforme"
      ],
      "metadata": {
        "id": "O4HNZWfv27O8"
      }
    },
    {
      "cell_type": "code",
      "source": [
        "np.random.rand(2)"
      ],
      "metadata": {
        "colab": {
          "base_uri": "https://localhost:8080/"
        },
        "id": "Y05ju1q03UDV",
        "outputId": "d7e74b45-bde9-475e-b1cc-a4e326b79b4c"
      },
      "execution_count": null,
      "outputs": [
        {
          "output_type": "execute_result",
          "data": {
            "text/plain": [
              "array([0.63139332, 0.14430545])"
            ]
          },
          "metadata": {},
          "execution_count": 21
        }
      ]
    },
    {
      "cell_type": "code",
      "source": [
        "np.random.randn(5,5)"
      ],
      "metadata": {
        "colab": {
          "base_uri": "https://localhost:8080/"
        },
        "id": "imkDEMUG3Yv0",
        "outputId": "e47673a3-4237-4767-f033-584bed0ec960"
      },
      "execution_count": null,
      "outputs": [
        {
          "output_type": "execute_result",
          "data": {
            "text/plain": [
              "array([[-0.44290016, -0.15191589, -0.48407696, -0.4302841 ,  2.25563753],\n",
              "       [ 0.09817882,  0.6438803 , -2.46324239,  0.61947659, -0.99342832],\n",
              "       [ 0.15726854,  0.88821154, -1.7906144 ,  0.49224188, -0.18131617],\n",
              "       [ 0.23944408, -1.22651249, -0.46941001,  1.21200346, -0.48931826],\n",
              "       [-0.31442338, -0.18605079, -0.64914256, -0.12064067,  1.99009753]])"
            ]
          },
          "metadata": {},
          "execution_count": 22
        }
      ]
    },
    {
      "cell_type": "markdown",
      "source": [
        "#### radnt\n",
        "Retorna um interiro entre low (inclusive) e high (exclusivo)"
      ],
      "metadata": {
        "id": "X8b07sMK8uc8"
      }
    },
    {
      "cell_type": "code",
      "source": [
        "np.random.randint(1,100)"
      ],
      "metadata": {
        "colab": {
          "base_uri": "https://localhost:8080/"
        },
        "id": "3-IkNk6R86KM",
        "outputId": "bb311910-c305-4855-9b35-c552f65baa70"
      },
      "execution_count": null,
      "outputs": [
        {
          "output_type": "execute_result",
          "data": {
            "text/plain": [
              "72"
            ]
          },
          "metadata": {},
          "execution_count": 23
        }
      ]
    },
    {
      "cell_type": "code",
      "source": [
        "np.random.randint(1,100,200)"
      ],
      "metadata": {
        "colab": {
          "base_uri": "https://localhost:8080/"
        },
        "id": "ZW1lCZGn9BGE",
        "outputId": "131abcef-a010-4da3-9e23-259218c08d37"
      },
      "execution_count": null,
      "outputs": [
        {
          "output_type": "execute_result",
          "data": {
            "text/plain": [
              "array([44, 52,  9, 32,  4, 48, 88, 15, 82, 24, 78, 87, 94, 10, 66,  5, 61,\n",
              "        7,  9, 99, 89, 28, 19, 58, 98, 78, 90, 60, 25, 82, 72, 25, 66, 54,\n",
              "       81, 42, 38, 99, 88,  9,  9, 40, 23, 57, 36, 56, 47, 64, 78, 74, 76,\n",
              "       74, 48, 52, 25, 70, 17, 47, 28, 84, 71, 99, 43, 54, 83, 27, 49, 39,\n",
              "       67, 34, 24, 96, 72,  7, 34, 35, 76, 35, 66, 32, 81, 42, 76, 10, 69,\n",
              "       37,  2, 13, 82, 67, 25, 94, 52, 17,  5, 83, 90, 75, 73, 75, 95, 11,\n",
              "       99, 95, 95, 62, 26, 20, 88, 94, 32, 65, 13, 87,  2, 32, 25, 82,  5,\n",
              "       21, 29, 25, 66, 10, 97, 55, 65, 17, 46, 24, 94, 17, 59, 65, 49, 52,\n",
              "       91, 78, 44, 71, 22, 95, 66, 55, 68, 56, 19,  8, 22, 17,  2, 41, 47,\n",
              "       32, 18, 55, 42,  8, 55, 92, 81, 70, 78,  6, 12, 72, 59,  3, 84,  2,\n",
              "       19, 60, 43, 16, 26, 97, 37, 11, 78, 30, 30, 93, 95,  4, 19, 10, 24,\n",
              "       89, 35, 61, 85, 79, 36, 96, 87, 33, 10, 44, 55, 76])"
            ]
          },
          "metadata": {},
          "execution_count": 25
        }
      ]
    },
    {
      "cell_type": "markdown",
      "source": [
        "### Atributos e métodos das Arrays\n",
        "Vamos discutir alguns atributos e métodos úteis de uma array"
      ],
      "metadata": {
        "id": "6QLG9-txCoxx"
      }
    },
    {
      "cell_type": "code",
      "source": [
        "arr = np.arange(25)\n",
        "print(arr)\n",
        "ranarr = np.random.randint(0,50,10)\n",
        "print(ranarr)"
      ],
      "metadata": {
        "colab": {
          "base_uri": "https://localhost:8080/"
        },
        "id": "UhZZmLokCzkC",
        "outputId": "9ed22f46-79d1-4df4-e3ec-d98dca4ce73c"
      },
      "execution_count": null,
      "outputs": [
        {
          "output_type": "stream",
          "name": "stdout",
          "text": [
            "[ 0  1  2  3  4  5  6  7  8  9 10 11 12 13 14 15 16 17 18 19 20 21 22 23\n",
            " 24]\n",
            "[37 20  4  2  6 15 26 23 25 30]\n"
          ]
        }
      ]
    },
    {
      "cell_type": "markdown",
      "source": [
        "### Reshape\n",
        "Retorna uma array contendo a mesma informação com uma nova forma"
      ],
      "metadata": {
        "id": "3lqj_JsHDV3U"
      }
    },
    {
      "cell_type": "code",
      "source": [
        "arr.reshape(5,5)"
      ],
      "metadata": {
        "colab": {
          "base_uri": "https://localhost:8080/"
        },
        "id": "qn7xR2Z-Dgad",
        "outputId": "0303431f-afda-4a4c-a9bc-ba1aedaf5cdb"
      },
      "execution_count": null,
      "outputs": [
        {
          "output_type": "execute_result",
          "data": {
            "text/plain": [
              "array([[ 0,  1,  2,  3,  4],\n",
              "       [ 5,  6,  7,  8,  9],\n",
              "       [10, 11, 12, 13, 14],\n",
              "       [15, 16, 17, 18, 19],\n",
              "       [20, 21, 22, 23, 24]])"
            ]
          },
          "metadata": {},
          "execution_count": 27
        }
      ]
    },
    {
      "cell_type": "markdown",
      "source": [
        "#### Max, min, argmax, armin\n",
        "Estes são métodos úteis para encontrar valores maximos ou minimos. Ou para encontrar seu índice de localizção utilizando argmin ou argmax"
      ],
      "metadata": {
        "id": "zOz8Ni12D1eW"
      }
    },
    {
      "cell_type": "code",
      "source": [
        "ranarr.max()"
      ],
      "metadata": {
        "colab": {
          "base_uri": "https://localhost:8080/"
        },
        "id": "0Kv2Go3XEL_Q",
        "outputId": "ff447028-5365-4a11-d814-8dda25f89b94"
      },
      "execution_count": null,
      "outputs": [
        {
          "output_type": "execute_result",
          "data": {
            "text/plain": [
              "37"
            ]
          },
          "metadata": {},
          "execution_count": 28
        }
      ]
    },
    {
      "cell_type": "code",
      "source": [
        "ranarr.argmax()"
      ],
      "metadata": {
        "colab": {
          "base_uri": "https://localhost:8080/"
        },
        "id": "K5MTmLiiEVQ3",
        "outputId": "12e6f9f4-8b37-49c5-f5a5-66f85f5c1f04"
      },
      "execution_count": null,
      "outputs": [
        {
          "output_type": "execute_result",
          "data": {
            "text/plain": [
              "0"
            ]
          },
          "metadata": {},
          "execution_count": 29
        }
      ]
    },
    {
      "cell_type": "code",
      "source": [
        "ranarr.min()"
      ],
      "metadata": {
        "colab": {
          "base_uri": "https://localhost:8080/"
        },
        "id": "888BB4CLEa5_",
        "outputId": "2e5e5a31-dd8b-4027-8eda-116b0f6ba9e8"
      },
      "execution_count": null,
      "outputs": [
        {
          "output_type": "execute_result",
          "data": {
            "text/plain": [
              "2"
            ]
          },
          "metadata": {},
          "execution_count": 30
        }
      ]
    },
    {
      "cell_type": "code",
      "source": [
        "ranarr.argmin()"
      ],
      "metadata": {
        "colab": {
          "base_uri": "https://localhost:8080/"
        },
        "id": "JICRrJ8XEgQo",
        "outputId": "66b462ba-2133-4aa7-dd22-05722156cc56"
      },
      "execution_count": null,
      "outputs": [
        {
          "output_type": "execute_result",
          "data": {
            "text/plain": [
              "3"
            ]
          },
          "metadata": {},
          "execution_count": 31
        }
      ]
    },
    {
      "cell_type": "markdown",
      "source": [
        "#### Shape\n",
        "Shape é um atributo que as arrays possuem (não é um método)"
      ],
      "metadata": {
        "id": "aahvVTOsE8ih"
      }
    },
    {
      "cell_type": "code",
      "source": [
        "arr.shape"
      ],
      "metadata": {
        "colab": {
          "base_uri": "https://localhost:8080/"
        },
        "id": "Yq4606d9FKZS",
        "outputId": "1ed23b70-6f88-49fc-9624-48afec2193bf"
      },
      "execution_count": null,
      "outputs": [
        {
          "output_type": "execute_result",
          "data": {
            "text/plain": [
              "(25,)"
            ]
          },
          "metadata": {},
          "execution_count": 32
        }
      ]
    },
    {
      "cell_type": "code",
      "source": [
        "arr"
      ],
      "metadata": {
        "colab": {
          "base_uri": "https://localhost:8080/"
        },
        "id": "HRW-Qj9MFpJH",
        "outputId": "5c97d04d-6866-4b93-b1d7-aafc08fe4544"
      },
      "execution_count": null,
      "outputs": [
        {
          "output_type": "execute_result",
          "data": {
            "text/plain": [
              "array([ 0,  1,  2,  3,  4,  5,  6,  7,  8,  9, 10, 11, 12, 13, 14, 15, 16,\n",
              "       17, 18, 19, 20, 21, 22, 23, 24])"
            ]
          },
          "metadata": {},
          "execution_count": 34
        }
      ]
    },
    {
      "cell_type": "code",
      "source": [
        "arr.reshape(1,25)"
      ],
      "metadata": {
        "colab": {
          "base_uri": "https://localhost:8080/"
        },
        "id": "uRhKlD_cFiBM",
        "outputId": "9a01c0fa-d472-4830-f985-1f964afc5aa8"
      },
      "execution_count": null,
      "outputs": [
        {
          "output_type": "execute_result",
          "data": {
            "text/plain": [
              "array([[ 0,  1,  2,  3,  4,  5,  6,  7,  8,  9, 10, 11, 12, 13, 14, 15,\n",
              "        16, 17, 18, 19, 20, 21, 22, 23, 24]])"
            ]
          },
          "metadata": {},
          "execution_count": 33
        }
      ]
    },
    {
      "cell_type": "code",
      "source": [
        "arr.reshape(1,25).shape"
      ],
      "metadata": {
        "colab": {
          "base_uri": "https://localhost:8080/"
        },
        "id": "7WCGchpLGpcw",
        "outputId": "ada311a5-a619-4e10-acc6-1d2b96ba06df"
      },
      "execution_count": null,
      "outputs": [
        {
          "output_type": "execute_result",
          "data": {
            "text/plain": [
              "(1, 25)"
            ]
          },
          "metadata": {},
          "execution_count": 35
        }
      ]
    },
    {
      "cell_type": "code",
      "source": [
        "arr.reshape(25,1)"
      ],
      "metadata": {
        "colab": {
          "base_uri": "https://localhost:8080/"
        },
        "id": "GG0bEp5IG7LR",
        "outputId": "b0d78d42-8d68-4b4a-e143-1ff66f62fea2"
      },
      "execution_count": null,
      "outputs": [
        {
          "output_type": "execute_result",
          "data": {
            "text/plain": [
              "array([[ 0],\n",
              "       [ 1],\n",
              "       [ 2],\n",
              "       [ 3],\n",
              "       [ 4],\n",
              "       [ 5],\n",
              "       [ 6],\n",
              "       [ 7],\n",
              "       [ 8],\n",
              "       [ 9],\n",
              "       [10],\n",
              "       [11],\n",
              "       [12],\n",
              "       [13],\n",
              "       [14],\n",
              "       [15],\n",
              "       [16],\n",
              "       [17],\n",
              "       [18],\n",
              "       [19],\n",
              "       [20],\n",
              "       [21],\n",
              "       [22],\n",
              "       [23],\n",
              "       [24]])"
            ]
          },
          "metadata": {},
          "execution_count": 36
        }
      ]
    },
    {
      "cell_type": "code",
      "source": [
        "arr.reshape(25,1).shape"
      ],
      "metadata": {
        "colab": {
          "base_uri": "https://localhost:8080/"
        },
        "id": "Ka8SAeBCHAUC",
        "outputId": "7e2077b8-8f63-4390-c118-26c3482e3b48"
      },
      "execution_count": null,
      "outputs": [
        {
          "output_type": "execute_result",
          "data": {
            "text/plain": [
              "(25, 1)"
            ]
          },
          "metadata": {},
          "execution_count": 38
        }
      ]
    },
    {
      "cell_type": "markdown",
      "source": [
        "#### dtype\n",
        "Também possível obter o tipo de dado dos objetos de uma array"
      ],
      "metadata": {
        "id": "Fl0r_bTZHYpE"
      }
    },
    {
      "cell_type": "code",
      "source": [
        "arr.dtype"
      ],
      "metadata": {
        "colab": {
          "base_uri": "https://localhost:8080/"
        },
        "id": "a60ZBHIaHosE",
        "outputId": "99efb7ec-327b-42f3-df56-01ebcb0d6f9f"
      },
      "execution_count": null,
      "outputs": [
        {
          "output_type": "execute_result",
          "data": {
            "text/plain": [
              "dtype('int64')"
            ]
          },
          "metadata": {},
          "execution_count": 39
        }
      ]
    },
    {
      "cell_type": "markdown",
      "source": [
        "#### Indexação e seleção\n",
        "Iremos discutir agora como selecionar elementos ou grupos de elementos de um array"
      ],
      "metadata": {
        "id": "XEeAtZ2CH4UF"
      }
    },
    {
      "cell_type": "code",
      "source": [
        "arr = np.arrange(0,11)\n",
        "print(arr)"
      ],
      "metadata": {
        "id": "tXLx8cUFIL6W"
      },
      "execution_count": null,
      "outputs": []
    },
    {
      "cell_type": "markdown",
      "source": [
        "### Indexação e seleção com colchetes\n",
        "A maneira mais simples para obter algum elemento de uma array é similar ao que se faz com as listas"
      ],
      "metadata": {
        "id": "QfvL9BCuIdLO"
      }
    },
    {
      "cell_type": "code",
      "source": [
        "arr[8]"
      ],
      "metadata": {
        "colab": {
          "base_uri": "https://localhost:8080/"
        },
        "id": "KaJZCV6tIscv",
        "outputId": "61579d45-5ed1-4283-ffdd-3869e8d61174"
      },
      "execution_count": null,
      "outputs": [
        {
          "output_type": "execute_result",
          "data": {
            "text/plain": [
              "8"
            ]
          },
          "metadata": {},
          "execution_count": 40
        }
      ]
    },
    {
      "cell_type": "code",
      "source": [
        "arr[2:5]"
      ],
      "metadata": {
        "colab": {
          "base_uri": "https://localhost:8080/"
        },
        "id": "gnJ7CDgFIu33",
        "outputId": "a839f6c0-5d72-405c-b0df-034576e0e2e9"
      },
      "execution_count": null,
      "outputs": [
        {
          "output_type": "execute_result",
          "data": {
            "text/plain": [
              "array([2, 3, 4])"
            ]
          },
          "metadata": {},
          "execution_count": 41
        }
      ]
    },
    {
      "cell_type": "code",
      "source": [
        "arr[0:5]"
      ],
      "metadata": {
        "colab": {
          "base_uri": "https://localhost:8080/"
        },
        "id": "24uQBO41Iym3",
        "outputId": "e4bc8161-f3e2-4626-b611-6dfcb9e76bf4"
      },
      "execution_count": null,
      "outputs": [
        {
          "output_type": "execute_result",
          "data": {
            "text/plain": [
              "array([0, 1, 2, 3, 4])"
            ]
          },
          "metadata": {},
          "execution_count": 42
        }
      ]
    },
    {
      "cell_type": "markdown",
      "source": [
        "### Broadcasting\n",
        "As arrays do numpy diferem de uma lista normal do python por sua capacidade de broadcast"
      ],
      "metadata": {
        "id": "x7-7tc_UJOTw"
      }
    },
    {
      "cell_type": "code",
      "source": [
        "print(arr)\n",
        "arr[:5] = 100\n",
        "print(arr)"
      ],
      "metadata": {
        "colab": {
          "base_uri": "https://localhost:8080/"
        },
        "id": "WtCN-x6jJdcj",
        "outputId": "28de881e-7771-41c9-8c9a-3faf7444a8cc"
      },
      "execution_count": null,
      "outputs": [
        {
          "output_type": "stream",
          "name": "stdout",
          "text": [
            "[ 0  1  2  3  4  5  6  7  8  9 10 11 12 13 14 15 16 17 18 19 20 21 22 23\n",
            " 24]\n",
            "[100 100 100 100 100   5   6   7   8   9  10  11  12  13  14  15  16  17\n",
            "  18  19  20  21  22  23  24]\n"
          ]
        }
      ]
    },
    {
      "cell_type": "code",
      "source": [
        "arr = np.arange(11)\n",
        "print(arr)"
      ],
      "metadata": {
        "colab": {
          "base_uri": "https://localhost:8080/"
        },
        "id": "neX-OySkJ4Dk",
        "outputId": "6ef17a74-2123-4e63-9cb5-7df2a77941eb"
      },
      "execution_count": null,
      "outputs": [
        {
          "output_type": "stream",
          "name": "stdout",
          "text": [
            "[ 0  1  2  3  4  5  6  7  8  9 10]\n"
          ]
        }
      ]
    },
    {
      "cell_type": "code",
      "source": [
        "slice_of_arr = arr[0:5]\n",
        "print(slice_of_arr)"
      ],
      "metadata": {
        "colab": {
          "base_uri": "https://localhost:8080/"
        },
        "id": "7od6O5koKHfj",
        "outputId": "9bad4655-4224-4188-9b9c-804c782c4b00"
      },
      "execution_count": null,
      "outputs": [
        {
          "output_type": "stream",
          "name": "stdout",
          "text": [
            "[0 1 2 3 4]\n"
          ]
        }
      ]
    },
    {
      "cell_type": "code",
      "source": [
        "slice_of_arr[:] = 99\n",
        "print(slice_of_arr)"
      ],
      "metadata": {
        "colab": {
          "base_uri": "https://localhost:8080/"
        },
        "id": "yryQVvYuKa3-",
        "outputId": "5893c7d3-64c0-4da3-c69b-65bc2589cac0"
      },
      "execution_count": null,
      "outputs": [
        {
          "output_type": "stream",
          "name": "stdout",
          "text": [
            "[99 99 99 99 99]\n"
          ]
        }
      ]
    },
    {
      "cell_type": "code",
      "source": [
        "print(arr)"
      ],
      "metadata": {
        "colab": {
          "base_uri": "https://localhost:8080/"
        },
        "id": "oMmSsKrmKlVY",
        "outputId": "1dbf8f3a-8233-45ab-960a-16ebb5631f68"
      },
      "execution_count": null,
      "outputs": [
        {
          "output_type": "stream",
          "name": "stdout",
          "text": [
            "[99 99 99 99 99  5  6  7  8  9 10]\n"
          ]
        }
      ]
    },
    {
      "cell_type": "code",
      "source": [
        "arr_copy = arr.copy()\n",
        "print(arr_copy)"
      ],
      "metadata": {
        "colab": {
          "base_uri": "https://localhost:8080/"
        },
        "id": "hAK4cGGRK9RJ",
        "outputId": "82fe4e3d-e546-4c92-9560-74d43abae37d"
      },
      "execution_count": null,
      "outputs": [
        {
          "output_type": "stream",
          "name": "stdout",
          "text": [
            "[99 99 99 99 99  5  6  7  8  9 10]\n"
          ]
        }
      ]
    },
    {
      "cell_type": "markdown",
      "source": [
        "#### Indexadando uma array 2D (matrizes)\n",
        "O formato geral é arr_2d[row][col] ou arr_2d[row,col]"
      ],
      "metadata": {
        "id": "AO3e8nAbLmcj"
      }
    },
    {
      "cell_type": "code",
      "source": [
        "arr_2d = np.array([[5,10,25], [20,25,30], [35,40,45]])\n",
        "print(arr_2d)"
      ],
      "metadata": {
        "colab": {
          "base_uri": "https://localhost:8080/"
        },
        "id": "S8KFdgYAL68V",
        "outputId": "eb00149b-de5f-4914-dc4d-a3cb8aa2fadc"
      },
      "execution_count": null,
      "outputs": [
        {
          "output_type": "stream",
          "name": "stdout",
          "text": [
            "[[ 5 10 25]\n",
            " [20 25 30]\n",
            " [35 40 45]]\n"
          ]
        }
      ]
    },
    {
      "cell_type": "code",
      "source": [
        "arr_2d[1]"
      ],
      "metadata": {
        "colab": {
          "base_uri": "https://localhost:8080/"
        },
        "id": "ASy8jIWjMN0Y",
        "outputId": "e048c9ee-3277-4d52-a7cb-a1b6cdf5c8f1"
      },
      "execution_count": null,
      "outputs": [
        {
          "output_type": "execute_result",
          "data": {
            "text/plain": [
              "array([20, 25, 30])"
            ]
          },
          "metadata": {},
          "execution_count": 52
        }
      ]
    },
    {
      "cell_type": "code",
      "source": [
        "arr_2d[1,0]"
      ],
      "metadata": {
        "colab": {
          "base_uri": "https://localhost:8080/"
        },
        "id": "jSPmNfrpMQru",
        "outputId": "59fc8b1a-b4ad-462a-b1c1-c23dbed6436b"
      },
      "execution_count": null,
      "outputs": [
        {
          "output_type": "execute_result",
          "data": {
            "text/plain": [
              "20"
            ]
          },
          "metadata": {},
          "execution_count": 53
        }
      ]
    },
    {
      "cell_type": "code",
      "source": [
        "arr_2d[:2,1:]"
      ],
      "metadata": {
        "colab": {
          "base_uri": "https://localhost:8080/"
        },
        "id": "UDmSQFeEMT6W",
        "outputId": "33f6e252-1c4c-4675-b7ea-8bec76db0318"
      },
      "execution_count": null,
      "outputs": [
        {
          "output_type": "execute_result",
          "data": {
            "text/plain": [
              "array([[10, 25],\n",
              "       [25, 30]])"
            ]
          },
          "metadata": {},
          "execution_count": 54
        }
      ]
    },
    {
      "cell_type": "code",
      "source": [
        "arr_2d[:,2]"
      ],
      "metadata": {
        "colab": {
          "base_uri": "https://localhost:8080/"
        },
        "id": "FhTwFyw_NQgE",
        "outputId": "85061d0e-7ce2-406b-9ede-bb096427dc7a"
      },
      "execution_count": null,
      "outputs": [
        {
          "output_type": "execute_result",
          "data": {
            "text/plain": [
              "array([25, 30, 45])"
            ]
          },
          "metadata": {},
          "execution_count": 55
        }
      ]
    },
    {
      "cell_type": "markdown",
      "source": [
        "#### Operações aritiméticas no numpy\n"
      ],
      "metadata": {
        "id": "vq5euUrINU7H"
      }
    },
    {
      "cell_type": "code",
      "source": [
        "arr = np.arange(11)\n",
        "arr"
      ],
      "metadata": {
        "colab": {
          "base_uri": "https://localhost:8080/"
        },
        "id": "ALqRRGA1NqVP",
        "outputId": "459e498c-e984-459e-da64-c3f17f0e317f"
      },
      "execution_count": null,
      "outputs": [
        {
          "output_type": "execute_result",
          "data": {
            "text/plain": [
              "array([ 0,  1,  2,  3,  4,  5,  6,  7,  8,  9, 10])"
            ]
          },
          "metadata": {},
          "execution_count": 64
        }
      ]
    },
    {
      "cell_type": "code",
      "source": [
        "arr + arr"
      ],
      "metadata": {
        "colab": {
          "base_uri": "https://localhost:8080/"
        },
        "id": "U3ydPPPRNxLP",
        "outputId": "1c463ec5-fdea-4366-8491-b46cccab7957"
      },
      "execution_count": null,
      "outputs": [
        {
          "output_type": "execute_result",
          "data": {
            "text/plain": [
              "array([ 0,  2,  4,  6,  8, 10, 12, 14, 16, 18, 20])"
            ]
          },
          "metadata": {},
          "execution_count": 58
        }
      ]
    },
    {
      "cell_type": "code",
      "source": [
        "arr - arr"
      ],
      "metadata": {
        "colab": {
          "base_uri": "https://localhost:8080/"
        },
        "id": "eCt26KArNzJY",
        "outputId": "57e0e116-1233-4f0f-b6a0-db92d78b799e"
      },
      "execution_count": null,
      "outputs": [
        {
          "output_type": "execute_result",
          "data": {
            "text/plain": [
              "array([0, 0, 0, 0, 0, 0, 0, 0, 0, 0, 0])"
            ]
          },
          "metadata": {},
          "execution_count": 59
        }
      ]
    },
    {
      "cell_type": "code",
      "source": [
        "arr/arr"
      ],
      "metadata": {
        "colab": {
          "base_uri": "https://localhost:8080/"
        },
        "id": "VV3jz4kKN1Wn",
        "outputId": "13e38b86-5066-4130-b645-ed8b186863f9"
      },
      "execution_count": null,
      "outputs": [
        {
          "output_type": "stream",
          "name": "stderr",
          "text": [
            "<ipython-input-60-50b4ced5627e>:1: RuntimeWarning: invalid value encountered in divide\n",
            "  arr/arr\n"
          ]
        },
        {
          "output_type": "execute_result",
          "data": {
            "text/plain": [
              "array([nan,  1.,  1.,  1.,  1.,  1.,  1.,  1.,  1.,  1.,  1.])"
            ]
          },
          "metadata": {},
          "execution_count": 60
        }
      ]
    },
    {
      "cell_type": "code",
      "source": [
        "1/arr"
      ],
      "metadata": {
        "colab": {
          "base_uri": "https://localhost:8080/"
        },
        "id": "drOuLDIcN3Yx",
        "outputId": "f3bed842-4d81-4f1d-d67c-8c3c89bcd8ac"
      },
      "execution_count": null,
      "outputs": [
        {
          "output_type": "stream",
          "name": "stderr",
          "text": [
            "<ipython-input-61-016353831300>:1: RuntimeWarning: divide by zero encountered in divide\n",
            "  1/arr\n"
          ]
        },
        {
          "output_type": "execute_result",
          "data": {
            "text/plain": [
              "array([       inf, 1.        , 0.5       , 0.33333333, 0.25      ,\n",
              "       0.2       , 0.16666667, 0.14285714, 0.125     , 0.11111111,\n",
              "       0.1       ])"
            ]
          },
          "metadata": {},
          "execution_count": 61
        }
      ]
    },
    {
      "cell_type": "code",
      "source": [
        "arr**3"
      ],
      "metadata": {
        "colab": {
          "base_uri": "https://localhost:8080/"
        },
        "id": "UvkTMy0WN-GJ",
        "outputId": "1907b796-5609-4ece-fe30-1d2444561baf"
      },
      "execution_count": null,
      "outputs": [
        {
          "output_type": "execute_result",
          "data": {
            "text/plain": [
              "array([   0,    1,    8,   27,   64,  125,  216,  343,  512,  729, 1000])"
            ]
          },
          "metadata": {},
          "execution_count": 62
        }
      ]
    },
    {
      "cell_type": "code",
      "source": [
        "arr"
      ],
      "metadata": {
        "colab": {
          "base_uri": "https://localhost:8080/"
        },
        "id": "ml5W16lgOAGa",
        "outputId": "87cc90da-e597-4e7b-cfa3-04cdd1e2d05f"
      },
      "execution_count": null,
      "outputs": [
        {
          "output_type": "execute_result",
          "data": {
            "text/plain": [
              "array([ 0,  1,  2,  3,  4,  5,  6,  7,  8,  9, 10])"
            ]
          },
          "metadata": {},
          "execution_count": 63
        }
      ]
    },
    {
      "cell_type": "markdown",
      "source": [
        "### Funções Universais"
      ],
      "metadata": {
        "id": "HSMsLoAaOHtU"
      }
    },
    {
      "cell_type": "code",
      "source": [
        "np.sqrt(arr)"
      ],
      "metadata": {
        "colab": {
          "base_uri": "https://localhost:8080/"
        },
        "id": "VnNo9LYBONIs",
        "outputId": "9c9d1def-efad-4dec-c511-8c1ce74acdc2"
      },
      "execution_count": null,
      "outputs": [
        {
          "output_type": "execute_result",
          "data": {
            "text/plain": [
              "array([0.        , 1.        , 1.41421356, 1.73205081, 2.        ,\n",
              "       2.23606798, 2.44948974, 2.64575131, 2.82842712, 3.        ,\n",
              "       3.16227766])"
            ]
          },
          "metadata": {},
          "execution_count": 65
        }
      ]
    },
    {
      "cell_type": "code",
      "source": [
        "np.exp(arr)"
      ],
      "metadata": {
        "colab": {
          "base_uri": "https://localhost:8080/"
        },
        "id": "ZHqdpwJ5OQjE",
        "outputId": "bcf0990a-fe87-451f-d6fd-e79b76aa810a"
      },
      "execution_count": null,
      "outputs": [
        {
          "output_type": "execute_result",
          "data": {
            "text/plain": [
              "array([1.00000000e+00, 2.71828183e+00, 7.38905610e+00, 2.00855369e+01,\n",
              "       5.45981500e+01, 1.48413159e+02, 4.03428793e+02, 1.09663316e+03,\n",
              "       2.98095799e+03, 8.10308393e+03, 2.20264658e+04])"
            ]
          },
          "metadata": {},
          "execution_count": 66
        }
      ]
    },
    {
      "cell_type": "code",
      "source": [
        "np.max(arr)"
      ],
      "metadata": {
        "colab": {
          "base_uri": "https://localhost:8080/"
        },
        "id": "qpMOLnKtOWDm",
        "outputId": "a8f7fe9e-62eb-47ab-9061-1ec74257adc6"
      },
      "execution_count": null,
      "outputs": [
        {
          "output_type": "execute_result",
          "data": {
            "text/plain": [
              "10"
            ]
          },
          "metadata": {},
          "execution_count": 67
        }
      ]
    },
    {
      "cell_type": "code",
      "source": [
        "np.sin(arr)"
      ],
      "metadata": {
        "colab": {
          "base_uri": "https://localhost:8080/"
        },
        "id": "F7SKBycpOZNW",
        "outputId": "f092eeb0-1aee-4d3c-95bc-a10a34228c83"
      },
      "execution_count": null,
      "outputs": [
        {
          "output_type": "execute_result",
          "data": {
            "text/plain": [
              "array([ 0.        ,  0.84147098,  0.90929743,  0.14112001, -0.7568025 ,\n",
              "       -0.95892427, -0.2794155 ,  0.6569866 ,  0.98935825,  0.41211849,\n",
              "       -0.54402111])"
            ]
          },
          "metadata": {},
          "execution_count": 68
        }
      ]
    },
    {
      "cell_type": "code",
      "source": [
        "np.log(arr)"
      ],
      "metadata": {
        "colab": {
          "base_uri": "https://localhost:8080/"
        },
        "id": "z_dsXYYyOcX-",
        "outputId": "6d8a811c-de15-4951-d75a-49aee4c7a8cb"
      },
      "execution_count": null,
      "outputs": [
        {
          "output_type": "stream",
          "name": "stderr",
          "text": [
            "<ipython-input-69-a67b4ae04e95>:1: RuntimeWarning: divide by zero encountered in log\n",
            "  np.log(arr)\n"
          ]
        },
        {
          "output_type": "execute_result",
          "data": {
            "text/plain": [
              "array([      -inf, 0.        , 0.69314718, 1.09861229, 1.38629436,\n",
              "       1.60943791, 1.79175947, 1.94591015, 2.07944154, 2.19722458,\n",
              "       2.30258509])"
            ]
          },
          "metadata": {},
          "execution_count": 69
        }
      ]
    }
  ]
}